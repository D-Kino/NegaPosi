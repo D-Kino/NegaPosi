{
 "cells": [
  {
   "cell_type": "code",
   "execution_count": 37,
   "id": "14037cf9",
   "metadata": {},
   "outputs": [],
   "source": [
    "import re\n",
    "import pymysql\n",
    "import json\n",
    "import pandas as pd\n",
    "import csv\n",
    "from pprint import pprint\n",
    "from transformers import pipeline, AutoModelForSequenceClassification, BertJapaneseTokenizer\n",
    "from JapaneseBPEEncoder.encode_swe import SWEEncoder_ja"
   ]
  },
  {
   "cell_type": "code",
   "execution_count": 38,
   "id": "526d4dfa",
   "metadata": {},
   "outputs": [],
   "source": [
    "# DB接続\n",
    "connection = pymysql.connect(host='localhost',\n",
    "                             user='root',\n",
    "                             password='',\n",
    "                             db='web_app',\n",
    "                             charset='utf8mb4',\n",
    "                             cursorclass=pymysql.cursors.DictCursor)\n",
    "connection.commit()\n",
    "cur = connection.cursor()"
   ]
  },
  {
   "cell_type": "code",
   "execution_count": 39,
   "id": "cf65517e",
   "metadata": {},
   "outputs": [],
   "source": [
    "APPID = 582010  # 582010：モンハンワールド\n",
    "ROWNUM = 100"
   ]
  },
  {
   "cell_type": "code",
   "execution_count": 55,
   "id": "8ae7813d",
   "metadata": {},
   "outputs": [
    {
     "data": {
      "text/plain": [
       "\"\\ncur.execute('     select         recommendationid,         appid,         review as text,         voted_up      from         review     where         appid = {0} '.format(APPID))\\n\""
      ]
     },
     "execution_count": 55,
     "metadata": {},
     "output_type": "execute_result"
    }
   ],
   "source": [
    "'''\n",
    "cur.execute(' \\\n",
    "    select \\\n",
    "        recommendationid, \\\n",
    "        appid, \\\n",
    "        review as text, \\\n",
    "        voted_up  \\\n",
    "    from \\\n",
    "        review \\\n",
    "')\n",
    "\n",
    "'''\n",
    "cur.execute(' \\\n",
    "    select \\\n",
    "        recommendationid, \\\n",
    "        appid, \\\n",
    "        review as text, \\\n",
    "        voted_up  \\\n",
    "    from \\\n",
    "        review \\\n",
    "    where \\\n",
    "        appid = {0} \\\n",
    "'.format(APPID))"
   ]
  },
  {
   "cell_type": "code",
   "execution_count": 19,
   "id": "73d44344",
   "metadata": {
    "scrolled": true
   },
   "outputs": [
    {
     "name": "stdout",
     "output_type": "stream",
     "text": [
      "正解率：68.99441340782123%、データ件数：1074件\n"
     ]
    }
   ],
   "source": [
    "# パイプラインの準備\n",
    "model = AutoModelForSequenceClassification.from_pretrained('daigo/bert-base-japanese-sentiment') \n",
    "tokenizer = BertJapaneseTokenizer.from_pretrained('cl-tohoku/bert-base-japanese-whole-word-masking')\n",
    "nlp = pipeline(\"sentiment-analysis\",model=model,tokenizer=tokenizer)\n",
    "\n",
    "# エンコーダー\n",
    "with open('JapaneseBPEEncoder/ja-swe32k.txt', encoding='utf-8') as f:\n",
    "    bpe = f.read().split('\\n')\n",
    "with open('JapaneseBPEEncoder/emoji.json', encoding='utf-8') as f:\n",
    "    emoji = json.loads(f.read())\n",
    "enc = SWEEncoder_ja(bpe, emoji)\n",
    "\n",
    "\n",
    "\n",
    "# 感情分析の実行\n",
    "result = {\n",
    "    'recommendationid' : [],\n",
    "    'label' : [],\n",
    "    'score' : [],\n",
    "    'result' : [],\n",
    "    'text' : []\n",
    "}\n",
    "fetch_cnt = 0\n",
    "data_cnt = 0\n",
    "correct_cnt = 0\n",
    "FORMAT = '{0}\\t{1}\\t{2}\\t{3}\\t{4}\\n'\n",
    "datas = cur.fetchmany(ROWNUM)\n",
    "fetch_cnt += 1\n",
    "fw = open('Predict/' + str(APPID) + '.tsv', 'w', encoding='utf-8')\n",
    "fw.write(FORMAT.format('recommendationid', 'label', 'score', 'correct', 'text'))\n",
    "while len(datas) > 0:\n",
    "    for index, data in enumerate(datas):\n",
    "        if re.match(r'[ぁ-んァ-ン一-龥]+', data['text']) and len(data['text']) > 48:\n",
    "            text = enc.clean_text(data['text'])[:256]\n",
    "            senti = nlp(text)\n",
    "            label_flg = 1 if senti[0]['label'] == 'ポジティブ' else 0\n",
    "            if label_flg == data['voted_up']:\n",
    "                correct = '正解'\n",
    "                correct_cnt += 1\n",
    "            else:\n",
    "                correct = '不正解'\n",
    "            fw.write(FORMAT.format(data['recommendationid'], senti[0]['label'], senti[0]['score'], correct, text.replace('\\n','\\\\n')))\n",
    "\n",
    "            '''\n",
    "            result['recommendationid'].insert(index % 10, data['recommendationid'])\n",
    "            result['label'].insert(index % 10, senti[0]['label'].ljust(10)) \n",
    "            result['score'].insert(index % 10, senti[0]['score']) \n",
    "            result['result'].insert(index % 10, correct.ljust(6))\n",
    "            result['text'].insert(index % 10, text.ljust(256))\n",
    "\n",
    "            if (index % 10 == 9):\n",
    "                df = pd.DataFrame(result)\n",
    "                print(df)\n",
    "            '''\n",
    "            data_cnt += 1\n",
    "    datas = cur.fetchmany(ROWNUM)\n",
    "    fetch_cnt += 1\n",
    "            \n",
    "print('正解率：{0}%、データ件数：{1}件'.format(correct_cnt / data_cnt * 100, data_cnt))\n",
    "        \n",
    "fw.close()  \n",
    "f.close()      "
   ]
  },
  {
   "cell_type": "code",
   "execution_count": 31,
   "id": "440ec3ad",
   "metadata": {},
   "outputs": [
    {
     "name": "stdout",
     "output_type": "stream",
     "text": [
      "{'appid': 582010,\n",
      " 'recommendationid': 44243017,\n",
      " 'text': 'いいところ\\n'\n",
      "         '楽しい\\n'\n",
      "         '60fpsでモンハンできる\\n'\n",
      "         'グラがいい\\n'\n",
      "         '採取が楽になった\\n'\n",
      "         '\\n'\n",
      "         'わるいところ\\n'\n",
      "         '[strike]ストーリー期待してたけど予想より短い\\n'\n",
      "         '修正パッチ予告してるけど今のところネットワークエラー多すぎ\\n'\n",
      "         'テオのようなエフェクト多いモンスターと戦うとfpsガク落ちする[/strike] \\n'\n",
      "         '修正済み\\n'\n",
      "         '\\n'\n",
      "         'アイスボーンも出るし今からやっても間に合うぞ！\\n'\n",
      "         'アイボーやらないか？',\n",
      " 'voted_up': 1}\n"
     ]
    }
   ],
   "source": [
    "cur.execute(' \\\n",
    "    select \\\n",
    "        recommendationid, \\\n",
    "        appid, \\\n",
    "        review as text, \\\n",
    "        voted_up  \\\n",
    "    from \\\n",
    "        review \\\n",
    "    where \\\n",
    "        appid = 582010 \\\n",
    "    and \\\n",
    "        recommendationid = 44243017 \\\n",
    "')\n",
    "review = cur.fetchone()\n",
    "pprint(review)"
   ]
  },
  {
   "cell_type": "code",
   "execution_count": 32,
   "id": "41e31db3",
   "metadata": {},
   "outputs": [
    {
     "name": "stdout",
     "output_type": "stream",
     "text": [
      " Original:  いいところ\n",
      "楽しい\n",
      "60fpsでモンハンできる\n",
      "グラがいい\n",
      "採取が楽になった\n",
      "\n",
      "わるいところ\n",
      "[strike]ストーリー期待してたけど予想より短い\n",
      "修正パッチ予告してるけど今のところネットワークエラー多すぎ\n",
      "テオのようなエフェクト多いモンスターと戦うとfpsガク落ちする[/strike] \n",
      "修正済み\n",
      "\n",
      "アイスボーンも出るし今からやっても間に合うぞ！\n",
      "アイボーやらないか？\n",
      "Tokenized:  ['いい', 'ところ', '楽しい', '60', 'f', '##ps', 'で', 'モン', '##ハン', 'できる', 'グラ', 'が', 'いい', '採取', 'が', '楽', 'に', 'なっ', 'た', 'わ', '##る', '##い', 'ところ', '[', 'st', '##ri', '##ke', ']', 'ストーリー', '期待', 'し', 'て', 'た', 'けど', '予想', 'より', '短い', '修正', 'パッチ', '予告', 'し', 'てる', 'けど', '今', 'の', 'ところ', 'ネットワーク', 'エラー', '多', 'すぎ', 'テオ', 'の', 'よう', 'な', 'エフェクト', '多い', 'モンスター', 'と', '戦う', 'と', 'f', '##ps', 'ガ', '##ク', '落ち', 'する', '[', '##/', 'st', '##ri', '##ke', ']', '修正', '済み', 'アイス', '##ボーン', 'も', '出る', 'し', '今', 'から', 'やっ', 'て', 'も', '間に', '##合う', 'ぞ', '!', 'アイ', '##ボー', 'やら', 'ない', 'か', '?']\n",
      "Token IDs:  [2575, 1134, 19835, 1840, 1044, 9893, 12, 2008, 2793, 392, 1984, 14, 2575, 12126, 14, 820, 7, 58, 10, 630, 28449, 28457, 1134, 4314, 4149, 2879, 8458, 4118, 3335, 3252, 15, 16, 10, 11218, 4663, 221, 5245, 4971, 20707, 9368, 15, 7134, 11218, 744, 5, 1134, 4102, 17876, 141, 3828, 12517, 5, 124, 18, 26606, 707, 6711, 13, 6139, 13, 1044, 9893, 444, 28488, 3024, 34, 4314, 28960, 4149, 2879, 8458, 4118, 4971, 9392, 5561, 8696, 28, 3746, 15, 744, 40, 5408, 16, 28, 12632, 7393, 5062, 679, 1350, 3600, 13278, 80, 29, 2935]\n"
     ]
    }
   ],
   "source": [
    "## テスト実行\n",
    "# 元文章\n",
    "print(' Original: ', review['text'])\n",
    "# Tokenizer\n",
    "print('Tokenized: ', tokenizer.tokenize(review['text']))\n",
    "# Token-id\n",
    "print('Token IDs: ', tokenizer.convert_tokens_to_ids(tokenizer.tokenize(review['text'])))"
   ]
  }
 ],
 "metadata": {
  "kernelspec": {
   "display_name": "Python 3 (ipykernel)",
   "language": "python",
   "name": "python3"
  },
  "language_info": {
   "codemirror_mode": {
    "name": "ipython",
    "version": 3
   },
   "file_extension": ".py",
   "mimetype": "text/x-python",
   "name": "python",
   "nbconvert_exporter": "python",
   "pygments_lexer": "ipython3",
   "version": "3.9.7"
  }
 },
 "nbformat": 4,
 "nbformat_minor": 5
}
